{
 "cells": [
  {
   "cell_type": "markdown",
   "id": "e4aef348",
   "metadata": {},
   "source": [
    "## Portfolio Part 3"
   ]
  },
  {
   "cell_type": "markdown",
   "id": "0619c315",
   "metadata": {},
   "source": [
    "In this Portfolio task you will continue working with the movielens data collected by the GroupLens Research Project at the University of Minnesota. The columns in the dataset are a little bit different from the ones provided in the previous Portfolio tasks, where the 'rating' column is replaced by the 'feedback' column. There are two values regarding the 'feedback' with 1 indicating the user likes the corresponding movie; otherwise 0. \n",
    "\n",
    "The header of the csv file is shown below. \n",
    "\n",
    "| userId | age | gender | occupation| movieId | feedback | genre | timestamp |\n",
    "    | ---- | ---- | ---- | ---- | ---- | ---- | ---- | ---- | \n",
    "    \n",
    "#### Description of Fields\n",
    "\n",
    "* __userId__ - the user's id\n",
    "* __age__ - the user's age\n",
    "* __gender__ - the user's gender\n",
    "* __occupation__ - the user's occupation\n",
    "* __movieId__ - the movie's id\n",
    "* __feedback__ - the user's feedback towards the movie (1 means 'like'; 0 means 'dislike')\n",
    "* __genre__ - the genre of the movie\n",
    "* __timestamp__ - the timestamp indicating when the user rated the movie\n",
    "\n",
    "Note that, a same user (i.e., a same userId) corresponds to a same age/gender/occupation; a same movie (i.e., a same movieId) corresponds to a same genre; a same user (i.e., a same userId) may like multiple movies and a same movie (i.e., a same movieId) may be preferred by multiple users.\n",
    "\n",
    "\n",
    "Your high level goal in this notebook is to try to build and evaluate predictive models for feedback from available features - predict the value of the __feedback__ field in the data from some of the other fields. Explore the data, build a model using a selection of features and then do some work on finding out which features provide the most accurate results.\n",
    "\n",
    "Note: you are not being evaluated on the ___accuracy___ of the model but on the ___process___ that you use to generate it. Please use a ___simple Logistic Regression model___ and ___one of the more advanced methods___ covered in recent weeks. Accordingly, discuss the performance of the simple and advanced methods."
   ]
  },
  {
   "cell_type": "code",
   "execution_count": 1,
   "id": "47be0d08",
   "metadata": {},
   "outputs": [],
   "source": [
    "import pandas as pd\n",
    "import numpy as np\n",
    "import matplotlib.pyplot as plt\n",
    "import seaborn as sns\n",
    "%matplotlib inline\n",
    "\n",
    "import warnings\n",
    "warnings.filterwarnings('ignore')"
   ]
  },
  {
   "cell_type": "code",
   "execution_count": 2,
   "id": "84c57251",
   "metadata": {},
   "outputs": [
    {
     "data": {
      "text/html": [
       "<div>\n",
       "<style scoped>\n",
       "    .dataframe tbody tr th:only-of-type {\n",
       "        vertical-align: middle;\n",
       "    }\n",
       "\n",
       "    .dataframe tbody tr th {\n",
       "        vertical-align: top;\n",
       "    }\n",
       "\n",
       "    .dataframe thead th {\n",
       "        text-align: right;\n",
       "    }\n",
       "</style>\n",
       "<table border=\"1\" class=\"dataframe\">\n",
       "  <thead>\n",
       "    <tr style=\"text-align: right;\">\n",
       "      <th></th>\n",
       "      <th>userId</th>\n",
       "      <th>age</th>\n",
       "      <th>gender</th>\n",
       "      <th>occupation</th>\n",
       "      <th>movieId</th>\n",
       "      <th>feedback</th>\n",
       "      <th>genre</th>\n",
       "    </tr>\n",
       "  </thead>\n",
       "  <tbody>\n",
       "    <tr>\n",
       "      <th>0</th>\n",
       "      <td>196</td>\n",
       "      <td>49</td>\n",
       "      <td>M</td>\n",
       "      <td>writer</td>\n",
       "      <td>242</td>\n",
       "      <td>0</td>\n",
       "      <td>Comedy</td>\n",
       "    </tr>\n",
       "    <tr>\n",
       "      <th>1</th>\n",
       "      <td>186</td>\n",
       "      <td>39</td>\n",
       "      <td>F</td>\n",
       "      <td>executive</td>\n",
       "      <td>302</td>\n",
       "      <td>0</td>\n",
       "      <td>Crime</td>\n",
       "    </tr>\n",
       "    <tr>\n",
       "      <th>2</th>\n",
       "      <td>22</td>\n",
       "      <td>25</td>\n",
       "      <td>M</td>\n",
       "      <td>writer</td>\n",
       "      <td>377</td>\n",
       "      <td>0</td>\n",
       "      <td>Children</td>\n",
       "    </tr>\n",
       "    <tr>\n",
       "      <th>3</th>\n",
       "      <td>244</td>\n",
       "      <td>28</td>\n",
       "      <td>M</td>\n",
       "      <td>technician</td>\n",
       "      <td>51</td>\n",
       "      <td>0</td>\n",
       "      <td>Romance</td>\n",
       "    </tr>\n",
       "    <tr>\n",
       "      <th>4</th>\n",
       "      <td>166</td>\n",
       "      <td>47</td>\n",
       "      <td>M</td>\n",
       "      <td>educator</td>\n",
       "      <td>346</td>\n",
       "      <td>0</td>\n",
       "      <td>Drama</td>\n",
       "    </tr>\n",
       "    <tr>\n",
       "      <th>5</th>\n",
       "      <td>298</td>\n",
       "      <td>44</td>\n",
       "      <td>M</td>\n",
       "      <td>executive</td>\n",
       "      <td>474</td>\n",
       "      <td>1</td>\n",
       "      <td>War</td>\n",
       "    </tr>\n",
       "    <tr>\n",
       "      <th>6</th>\n",
       "      <td>115</td>\n",
       "      <td>31</td>\n",
       "      <td>M</td>\n",
       "      <td>engineer</td>\n",
       "      <td>265</td>\n",
       "      <td>0</td>\n",
       "      <td>Action</td>\n",
       "    </tr>\n",
       "    <tr>\n",
       "      <th>7</th>\n",
       "      <td>253</td>\n",
       "      <td>26</td>\n",
       "      <td>F</td>\n",
       "      <td>librarian</td>\n",
       "      <td>465</td>\n",
       "      <td>1</td>\n",
       "      <td>Adventure</td>\n",
       "    </tr>\n",
       "    <tr>\n",
       "      <th>8</th>\n",
       "      <td>305</td>\n",
       "      <td>23</td>\n",
       "      <td>M</td>\n",
       "      <td>programmer</td>\n",
       "      <td>451</td>\n",
       "      <td>0</td>\n",
       "      <td>Romance</td>\n",
       "    </tr>\n",
       "    <tr>\n",
       "      <th>9</th>\n",
       "      <td>6</td>\n",
       "      <td>42</td>\n",
       "      <td>M</td>\n",
       "      <td>executive</td>\n",
       "      <td>86</td>\n",
       "      <td>0</td>\n",
       "      <td>Drama</td>\n",
       "    </tr>\n",
       "  </tbody>\n",
       "</table>\n",
       "</div>"
      ],
      "text/plain": [
       "   userId  age gender  occupation  movieId  feedback      genre\n",
       "0     196   49      M      writer      242         0     Comedy\n",
       "1     186   39      F   executive      302         0      Crime\n",
       "2      22   25      M      writer      377         0   Children\n",
       "3     244   28      M  technician       51         0    Romance\n",
       "4     166   47      M    educator      346         0      Drama\n",
       "5     298   44      M   executive      474         1        War\n",
       "6     115   31      M    engineer      265         0     Action\n",
       "7     253   26      F   librarian      465         1  Adventure\n",
       "8     305   23      M  programmer      451         0    Romance\n",
       "9       6   42      M   executive       86         0      Drama"
      ]
     },
     "execution_count": 2,
     "metadata": {},
     "output_type": "execute_result"
    }
   ],
   "source": [
    "movielens = pd.read_csv('files/movielens_data_feedback.csv')\n",
    "\n",
    "# drop timestamp column as it is not used for this analysis\n",
    "movielens = movielens.drop(['timestamp'], axis=1)\n",
    "movielens.head(10)"
   ]
  },
  {
   "cell_type": "code",
   "execution_count": 3,
   "id": "08ef16b1",
   "metadata": {},
   "outputs": [
    {
     "name": "stdout",
     "output_type": "stream",
     "text": [
      "<class 'pandas.core.frame.DataFrame'>\n",
      "RangeIndex: 100000 entries, 0 to 99999\n",
      "Data columns (total 7 columns):\n",
      " #   Column      Non-Null Count   Dtype \n",
      "---  ------      --------------   ----- \n",
      " 0   userId      100000 non-null  int64 \n",
      " 1   age         100000 non-null  int64 \n",
      " 2   gender      100000 non-null  object\n",
      " 3   occupation  100000 non-null  object\n",
      " 4   movieId     100000 non-null  int64 \n",
      " 5   feedback    100000 non-null  int64 \n",
      " 6   genre       100000 non-null  object\n",
      "dtypes: int64(4), object(3)\n",
      "memory usage: 5.3+ MB\n"
     ]
    }
   ],
   "source": [
    "# data type of each column\n",
    "movielens.info()"
   ]
  },
  {
   "cell_type": "code",
   "execution_count": 4,
   "id": "6b3a5b35",
   "metadata": {},
   "outputs": [
    {
     "data": {
      "text/html": [
       "<div>\n",
       "<style scoped>\n",
       "    .dataframe tbody tr th:only-of-type {\n",
       "        vertical-align: middle;\n",
       "    }\n",
       "\n",
       "    .dataframe tbody tr th {\n",
       "        vertical-align: top;\n",
       "    }\n",
       "\n",
       "    .dataframe thead th {\n",
       "        text-align: right;\n",
       "    }\n",
       "</style>\n",
       "<table border=\"1\" class=\"dataframe\">\n",
       "  <thead>\n",
       "    <tr style=\"text-align: right;\">\n",
       "      <th></th>\n",
       "      <th>userId</th>\n",
       "      <th>age</th>\n",
       "      <th>gender</th>\n",
       "      <th>occupation</th>\n",
       "      <th>movieId</th>\n",
       "      <th>feedback</th>\n",
       "      <th>genre</th>\n",
       "    </tr>\n",
       "  </thead>\n",
       "  <tbody>\n",
       "    <tr>\n",
       "      <th>0</th>\n",
       "      <td>196</td>\n",
       "      <td>49</td>\n",
       "      <td>1</td>\n",
       "      <td>20</td>\n",
       "      <td>242</td>\n",
       "      <td>0</td>\n",
       "      <td>4</td>\n",
       "    </tr>\n",
       "    <tr>\n",
       "      <th>1</th>\n",
       "      <td>186</td>\n",
       "      <td>39</td>\n",
       "      <td>0</td>\n",
       "      <td>6</td>\n",
       "      <td>302</td>\n",
       "      <td>0</td>\n",
       "      <td>5</td>\n",
       "    </tr>\n",
       "    <tr>\n",
       "      <th>2</th>\n",
       "      <td>22</td>\n",
       "      <td>25</td>\n",
       "      <td>1</td>\n",
       "      <td>20</td>\n",
       "      <td>377</td>\n",
       "      <td>0</td>\n",
       "      <td>3</td>\n",
       "    </tr>\n",
       "    <tr>\n",
       "      <th>3</th>\n",
       "      <td>244</td>\n",
       "      <td>28</td>\n",
       "      <td>1</td>\n",
       "      <td>19</td>\n",
       "      <td>51</td>\n",
       "      <td>0</td>\n",
       "      <td>13</td>\n",
       "    </tr>\n",
       "    <tr>\n",
       "      <th>4</th>\n",
       "      <td>166</td>\n",
       "      <td>47</td>\n",
       "      <td>1</td>\n",
       "      <td>3</td>\n",
       "      <td>346</td>\n",
       "      <td>0</td>\n",
       "      <td>7</td>\n",
       "    </tr>\n",
       "    <tr>\n",
       "      <th>5</th>\n",
       "      <td>298</td>\n",
       "      <td>44</td>\n",
       "      <td>1</td>\n",
       "      <td>6</td>\n",
       "      <td>474</td>\n",
       "      <td>1</td>\n",
       "      <td>16</td>\n",
       "    </tr>\n",
       "    <tr>\n",
       "      <th>6</th>\n",
       "      <td>115</td>\n",
       "      <td>31</td>\n",
       "      <td>1</td>\n",
       "      <td>4</td>\n",
       "      <td>265</td>\n",
       "      <td>0</td>\n",
       "      <td>0</td>\n",
       "    </tr>\n",
       "    <tr>\n",
       "      <th>7</th>\n",
       "      <td>253</td>\n",
       "      <td>26</td>\n",
       "      <td>0</td>\n",
       "      <td>10</td>\n",
       "      <td>465</td>\n",
       "      <td>1</td>\n",
       "      <td>1</td>\n",
       "    </tr>\n",
       "    <tr>\n",
       "      <th>8</th>\n",
       "      <td>305</td>\n",
       "      <td>23</td>\n",
       "      <td>1</td>\n",
       "      <td>14</td>\n",
       "      <td>451</td>\n",
       "      <td>0</td>\n",
       "      <td>13</td>\n",
       "    </tr>\n",
       "    <tr>\n",
       "      <th>9</th>\n",
       "      <td>6</td>\n",
       "      <td>42</td>\n",
       "      <td>1</td>\n",
       "      <td>6</td>\n",
       "      <td>86</td>\n",
       "      <td>0</td>\n",
       "      <td>7</td>\n",
       "    </tr>\n",
       "  </tbody>\n",
       "</table>\n",
       "</div>"
      ],
      "text/plain": [
       "   userId  age  gender  occupation  movieId  feedback  genre\n",
       "0     196   49       1          20      242         0      4\n",
       "1     186   39       0           6      302         0      5\n",
       "2      22   25       1          20      377         0      3\n",
       "3     244   28       1          19       51         0     13\n",
       "4     166   47       1           3      346         0      7\n",
       "5     298   44       1           6      474         1     16\n",
       "6     115   31       1           4      265         0      0\n",
       "7     253   26       0          10      465         1      1\n",
       "8     305   23       1          14      451         0     13\n",
       "9       6   42       1           6       86         0      7"
      ]
     },
     "execution_count": 4,
     "metadata": {},
     "output_type": "execute_result"
    }
   ],
   "source": [
    "# convert categorical values into numerical values\n",
    "from sklearn.preprocessing import OrdinalEncoder\n",
    "enc = OrdinalEncoder(dtype=np.int64)\n",
    "movielens[['gender','occupation', 'genre']] = enc.fit_transform(movielens[['gender','occupation', 'genre']])\n",
    "movielens.head(10)"
   ]
  },
  {
   "cell_type": "code",
   "execution_count": 5,
   "id": "bd151895",
   "metadata": {},
   "outputs": [
    {
     "name": "stdout",
     "output_type": "stream",
     "text": [
      "<class 'pandas.core.frame.DataFrame'>\n",
      "RangeIndex: 100000 entries, 0 to 99999\n",
      "Data columns (total 7 columns):\n",
      " #   Column      Non-Null Count   Dtype\n",
      "---  ------      --------------   -----\n",
      " 0   userId      100000 non-null  int64\n",
      " 1   age         100000 non-null  int64\n",
      " 2   gender      100000 non-null  int64\n",
      " 3   occupation  100000 non-null  int64\n",
      " 4   movieId     100000 non-null  int64\n",
      " 5   feedback    100000 non-null  int64\n",
      " 6   genre       100000 non-null  int64\n",
      "dtypes: int64(7)\n",
      "memory usage: 5.3 MB\n"
     ]
    }
   ],
   "source": [
    "# data type of each column after OrdinalEncoder feature\n",
    "movielens.info()"
   ]
  },
  {
   "cell_type": "code",
   "execution_count": 6,
   "id": "38e1ca0c",
   "metadata": {},
   "outputs": [
    {
     "name": "stdout",
     "output_type": "stream",
     "text": [
      "No. of samples who does not like the movie: 44625\n",
      "No. of samples who likes the movie: 55375\n"
     ]
    },
    {
     "data": {
      "text/plain": [
       "<AxesSubplot:xlabel='feedback', ylabel='count'>"
      ]
     },
     "execution_count": 6,
     "metadata": {},
     "output_type": "execute_result"
    },
    {
     "data": {
      "image/png": "[encoded data removed]",
      "text/plain": [
       "<Figure size 432x288 with 1 Axes>"
      ]
     },
     "metadata": {
      "needs_background": "light"
     },
     "output_type": "display_data"
    }
   ],
   "source": [
    "# Check number of samples for each class and find out whether dataset is balance\n",
    "print('No. of samples who does not like the movie:', movielens[movielens['feedback']==0].shape[0])\n",
    "print('No. of samples who likes the movie:', movielens[movielens['feedback']==1].shape[0])\n",
    "\n",
    "sns.countplot(x=movielens['feedback'], label=['Count'])"
   ]
  },
  {
   "cell_type": "code",
   "execution_count": 7,
   "id": "9f1971c5",
   "metadata": {},
   "outputs": [
    {
     "data": {
      "text/plain": [
       "userId        0\n",
       "age           0\n",
       "gender        0\n",
       "occupation    0\n",
       "movieId       0\n",
       "feedback      0\n",
       "genre         0\n",
       "dtype: int64"
      ]
     },
     "execution_count": 7,
     "metadata": {},
     "output_type": "execute_result"
    }
   ],
   "source": [
    "# check if there is any null or NaN data before splitting\n",
    "movielens.isna().sum()"
   ]
  },
  {
   "cell_type": "markdown",
   "id": "b1f619d7",
   "metadata": {},
   "source": [
    "## Splitting Data and Feature Selection"
   ]
  },
  {
   "cell_type": "code",
   "execution_count": 8,
   "id": "e2eb8ad1",
   "metadata": {},
   "outputs": [],
   "source": [
    "# Splitting data with 80% train size and 20% test size\n",
    "\n",
    "from sklearn.model_selection import train_test_split\n",
    "\n",
    "movielens_train, movielens_test = train_test_split(movielens, test_size=0.2, random_state=142)"
   ]
  },
  {
   "cell_type": "code",
   "execution_count": 9,
   "id": "dfda0154",
   "metadata": {},
   "outputs": [
    {
     "name": "stdout",
     "output_type": "stream",
     "text": [
      "X_train shape: (80000, 4)\n",
      "y_train shape: (80000,)\n",
      "X_test shape:  (20000, 4)\n",
      "y_test shape:  (20000,)\n"
     ]
    }
   ],
   "source": [
    "# setting X (independant variables) and y (dependant variable)\n",
    "X_train = movielens_train.drop(['userId', 'movieId', 'feedback'], axis=1)\n",
    "y_train = movielens_train['feedback']\n",
    "\n",
    "X_test = movielens_test.drop(['userId', 'movieId', 'feedback'], axis=1)\n",
    "y_test = movielens_test['feedback']\n",
    "\n",
    "print('X_train shape:', X_train.shape)\n",
    "print('y_train shape:', y_train.shape)\n",
    "print('X_test shape: ', X_test.shape)\n",
    "print('y_test shape: ', y_test.shape)"
   ]
  },
  {
   "cell_type": "markdown",
   "id": "034eddc5",
   "metadata": {},
   "source": [
    "## Simple Logistic Regression Model"
   ]
  },
  {
   "cell_type": "code",
   "execution_count": 10,
   "id": "ef3e7a8c",
   "metadata": {},
   "outputs": [
    {
     "data": {
      "text/plain": [
       "LogisticRegression()"
      ]
     },
     "execution_count": 10,
     "metadata": {},
     "output_type": "execute_result"
    }
   ],
   "source": [
    "# create logistic Regression Model\n",
    "from sklearn.linear_model import LogisticRegression\n",
    "Logreg = LogisticRegression()\n",
    "Logreg.fit(X_train, y_train)"
   ]
  },
  {
   "cell_type": "code",
   "execution_count": 11,
   "id": "347caff2",
   "metadata": {},
   "outputs": [
    {
     "name": "stdout",
     "output_type": "stream",
     "text": [
      "[1 1 1 ... 1 1 1]\n"
     ]
    }
   ],
   "source": [
    "# predict the model\n",
    "Predict = Logreg.predict(X_test)\n",
    "print(Predict)"
   ]
  },
  {
   "cell_type": "markdown",
   "id": "d8d6d1d8",
   "metadata": {},
   "source": [
    "## Evaluation of Logisitic Regression Model"
   ]
  },
  {
   "cell_type": "code",
   "execution_count": 12,
   "id": "58014122",
   "metadata": {},
   "outputs": [
    {
     "name": "stdout",
     "output_type": "stream",
     "text": [
      "Accuracy scores on testing set: 0.55755\n"
     ]
    }
   ],
   "source": [
    "from sklearn.metrics import confusion_matrix, accuracy_score, plot_confusion_matrix\n",
    "\n",
    "print('Accuracy scores on testing set:', accuracy_score(y_test, Predict))"
   ]
  },
  {
   "cell_type": "code",
   "execution_count": 13,
   "id": "d1173044",
   "metadata": {},
   "outputs": [
    {
     "name": "stdout",
     "output_type": "stream",
     "text": [
      "Confusion Matrix on test set\n",
      "[[  228  8616]\n",
      " [  233 10923]]\n"
     ]
    },
    {
     "data": {
      "text/plain": [
       "<sklearn.metrics._plot.confusion_matrix.ConfusionMatrixDisplay at 0x2562bd69dc0>"
      ]
     },
     "execution_count": 13,
     "metadata": {},
     "output_type": "execute_result"
    },
    {
     "data": {
      "image/png": "[encoded data removed]",
      "text/plain": [
       "<Figure size 432x288 with 2 Axes>"
      ]
     },
     "metadata": {},
     "output_type": "display_data"
    }
   ],
   "source": [
    "# visualize the logistic regression outcome using Confusion Matrix\n",
    "print('Confusion Matrix on test set')\n",
    "print(confusion_matrix(y_test, Predict))\n",
    "\n",
    "sns.set(style='white')\n",
    "plot_confusion_matrix(Logreg, X_test, y_test)"
   ]
  },
  {
   "cell_type": "markdown",
   "id": "844b72c1",
   "metadata": {},
   "source": [
    "According to the accuracy score, the model used in here able to produce 56% accuracy when predicting the test dataset. It was also illustrated in Confusion Matrix Plot, where there was 228 correct prediction for '0' feedback and 10923 correct prediction for '1' feedback. However, this model had the tendency to predict '1' feedback from the test data, which could be seen that there were 8616 false prediction for '1' feedback. It may cause a bias due to unbalanced distribution for the prediction outcome."
   ]
  },
  {
   "cell_type": "markdown",
   "id": "39669fab",
   "metadata": {},
   "source": [
    "## Using RFE to Select Features"
   ]
  },
  {
   "cell_type": "code",
   "execution_count": 14,
   "id": "aafeabac",
   "metadata": {},
   "outputs": [
    {
     "data": {
      "text/plain": [
       "RFE(estimator=LogisticRegression(), n_features_to_select=4)"
      ]
     },
     "execution_count": 14,
     "metadata": {},
     "output_type": "execute_result"
    }
   ],
   "source": [
    "from sklearn.feature_selection import RFE\n",
    "\n",
    "#create RFE project\n",
    "Logreg = LogisticRegression()\n",
    "# build the model using RFE to select the best feature\n",
    "rfe = RFE(estimator=Logreg, n_features_to_select=4, step=1)\n",
    "rfe.fit(X_train, y_train)"
   ]
  },
  {
   "cell_type": "code",
   "execution_count": 15,
   "id": "e228c3ce",
   "metadata": {},
   "outputs": [
    {
     "name": "stdout",
     "output_type": "stream",
     "text": [
      "Column: 0, Selected True, Rank: 1.000\n",
      "Column: 1, Selected True, Rank: 1.000\n",
      "Column: 2, Selected True, Rank: 1.000\n",
      "Column: 3, Selected True, Rank: 1.000\n"
     ]
    },
    {
     "data": {
      "text/html": [
       "<div>\n",
       "<style scoped>\n",
       "    .dataframe tbody tr th:only-of-type {\n",
       "        vertical-align: middle;\n",
       "    }\n",
       "\n",
       "    .dataframe tbody tr th {\n",
       "        vertical-align: top;\n",
       "    }\n",
       "\n",
       "    .dataframe thead th {\n",
       "        text-align: right;\n",
       "    }\n",
       "</style>\n",
       "<table border=\"1\" class=\"dataframe\">\n",
       "  <thead>\n",
       "    <tr style=\"text-align: right;\">\n",
       "      <th></th>\n",
       "      <th>age</th>\n",
       "      <th>gender</th>\n",
       "      <th>occupation</th>\n",
       "      <th>genre</th>\n",
       "    </tr>\n",
       "  </thead>\n",
       "  <tbody>\n",
       "    <tr>\n",
       "      <th>36772</th>\n",
       "      <td>51</td>\n",
       "      <td>1</td>\n",
       "      <td>6</td>\n",
       "      <td>4</td>\n",
       "    </tr>\n",
       "    <tr>\n",
       "      <th>43891</th>\n",
       "      <td>46</td>\n",
       "      <td>1</td>\n",
       "      <td>2</td>\n",
       "      <td>7</td>\n",
       "    </tr>\n",
       "    <tr>\n",
       "      <th>52044</th>\n",
       "      <td>29</td>\n",
       "      <td>1</td>\n",
       "      <td>13</td>\n",
       "      <td>4</td>\n",
       "    </tr>\n",
       "    <tr>\n",
       "      <th>14810</th>\n",
       "      <td>60</td>\n",
       "      <td>1</td>\n",
       "      <td>15</td>\n",
       "      <td>12</td>\n",
       "    </tr>\n",
       "    <tr>\n",
       "      <th>64521</th>\n",
       "      <td>37</td>\n",
       "      <td>0</td>\n",
       "      <td>11</td>\n",
       "      <td>13</td>\n",
       "    </tr>\n",
       "    <tr>\n",
       "      <th>...</th>\n",
       "      <td>...</td>\n",
       "      <td>...</td>\n",
       "      <td>...</td>\n",
       "      <td>...</td>\n",
       "    </tr>\n",
       "    <tr>\n",
       "      <th>5146</th>\n",
       "      <td>48</td>\n",
       "      <td>1</td>\n",
       "      <td>3</td>\n",
       "      <td>15</td>\n",
       "    </tr>\n",
       "    <tr>\n",
       "      <th>40204</th>\n",
       "      <td>21</td>\n",
       "      <td>1</td>\n",
       "      <td>20</td>\n",
       "      <td>15</td>\n",
       "    </tr>\n",
       "    <tr>\n",
       "      <th>78335</th>\n",
       "      <td>28</td>\n",
       "      <td>1</td>\n",
       "      <td>14</td>\n",
       "      <td>0</td>\n",
       "    </tr>\n",
       "    <tr>\n",
       "      <th>31131</th>\n",
       "      <td>50</td>\n",
       "      <td>0</td>\n",
       "      <td>20</td>\n",
       "      <td>9</td>\n",
       "    </tr>\n",
       "    <tr>\n",
       "      <th>98581</th>\n",
       "      <td>19</td>\n",
       "      <td>1</td>\n",
       "      <td>18</td>\n",
       "      <td>7</td>\n",
       "    </tr>\n",
       "  </tbody>\n",
       "</table>\n",
       "<p>80000 rows × 4 columns</p>\n",
       "</div>"
      ],
      "text/plain": [
       "       age  gender  occupation  genre\n",
       "36772   51       1           6      4\n",
       "43891   46       1           2      7\n",
       "52044   29       1          13      4\n",
       "14810   60       1          15     12\n",
       "64521   37       0          11     13\n",
       "...    ...     ...         ...    ...\n",
       "5146    48       1           3     15\n",
       "40204   21       1          20     15\n",
       "78335   28       1          14      0\n",
       "31131   50       0          20      9\n",
       "98581   19       1          18      7\n",
       "\n",
       "[80000 rows x 4 columns]"
      ]
     },
     "execution_count": 15,
     "metadata": {},
     "output_type": "execute_result"
    }
   ],
   "source": [
    "# Ranking the the best feature according to RFE\n",
    "for i in range(X_train.shape[1]):\n",
    "    print('Column: %d, Selected %s, Rank: %.3f' % (i, rfe.support_[i], rfe.ranking_[i]))\n",
    "    \n",
    "X_train"
   ]
  },
  {
   "cell_type": "markdown",
   "id": "ec772923",
   "metadata": {},
   "source": [
    "This indicates that all features more or less provide the same machine learning model quality to predict the 'feedback', according to the RFE."
   ]
  },
  {
   "cell_type": "code",
   "execution_count": 16,
   "id": "a9ea5bf6",
   "metadata": {},
   "outputs": [
    {
     "name": "stdout",
     "output_type": "stream",
     "text": [
      "Acc on test set using 1 features:  0.5578\n",
      "Acc on test set using 2 features:  0.55665\n",
      "Acc on test set using 3 features:  0.55755\n",
      "Acc on test set using 4 features:  0.55755\n"
     ]
    }
   ],
   "source": [
    "# to increment number of features, one at each time\n",
    "acc_scores = []\n",
    "for i in range(1,5):\n",
    "    Logreg = LogisticRegression()\n",
    "    rfe = RFE(estimator=Logreg, n_features_to_select=i)\n",
    "    \n",
    "    # training model\n",
    "    rfe.fit(X_train, y_train)\n",
    "    \n",
    "    # predicting on test set\n",
    "    y_pred = rfe.predict(X_test)\n",
    "    acc_score = accuracy_score(y_test, y_pred)\n",
    "    \n",
    "    # show results\n",
    "    print('Acc on test set using', i, 'features: ', acc_score)\n",
    "    \n",
    "    # append to the list\n",
    "    acc_scores.append(acc_score)"
   ]
  },
  {
   "cell_type": "markdown",
   "id": "ee7fe138",
   "metadata": {},
   "source": [
    "According to accuracy score when using RFE, the best feature to be used was 1 feature So, we try to run RFE with one (1) feature to be selected instead. "
   ]
  },
  {
   "cell_type": "code",
   "execution_count": 17,
   "id": "fcc7b15b",
   "metadata": {},
   "outputs": [
    {
     "data": {
      "text/plain": [
       "array([1, 1, 1, ..., 1, 1, 1], dtype=int64)"
      ]
     },
     "execution_count": 17,
     "metadata": {},
     "output_type": "execute_result"
    }
   ],
   "source": [
    "# predict the 'feedback' using three (3) features selected by RFE\n",
    "rfe = RFE(estimator=Logreg, n_features_to_select=1, step=1)\n",
    "rfe.fit(X_train, y_train)\n",
    "feedback_predict = rfe.predict(X_test)\n",
    "\n",
    "feedback_predict"
   ]
  },
  {
   "cell_type": "code",
   "execution_count": 18,
   "id": "990554d1",
   "metadata": {},
   "outputs": [
    {
     "name": "stdout",
     "output_type": "stream",
     "text": [
      "Confusion Matrix on test set using RFE\n",
      "[[    0  8844]\n",
      " [    0 11156]]\n"
     ]
    },
    {
     "data": {
      "text/plain": [
       "<sklearn.metrics._plot.confusion_matrix.ConfusionMatrixDisplay at 0x2562be6b4f0>"
      ]
     },
     "execution_count": 18,
     "metadata": {},
     "output_type": "execute_result"
    },
    {
     "data": {
      "image/png": "[encoded data removed]",
      "text/plain": [
       "<Figure size 432x288 with 2 Axes>"
      ]
     },
     "metadata": {},
     "output_type": "display_data"
    }
   ],
   "source": [
    "# visualize the regression outcome using Confusion Matrix\n",
    "print('Confusion Matrix on test set using RFE')\n",
    "print(confusion_matrix(y_test, feedback_predict))\n",
    "\n",
    "sns.set(style='white')\n",
    "plot_confusion_matrix(rfe, X_test, y_test)"
   ]
  },
  {
   "cell_type": "markdown",
   "id": "9c9af321",
   "metadata": {},
   "source": [
    "In the confusion matrix with one (1) feature selected by RFE, we could see that the model predicted that all of the of outcomes should be '1', which was the 'like' feedback from the respondents. This indicated that even using the RFE, the model tend to predict that most of the outcomes should be '1', which still may cause bias due to unbalanced prediction distribution outcomes. However, since the accuracy score was not significantly different from the above logistic regression, we could see almost the same amount of false prediction. There was an increase of false prediction of '1' from 8616 to 8844 outcomes. "
   ]
  },
  {
   "cell_type": "markdown",
   "id": "01e20298",
   "metadata": {},
   "source": [
    "## K-Nearest Neighbor (KNN) Model"
   ]
  },
  {
   "cell_type": "markdown",
   "id": "867f8bbe",
   "metadata": {},
   "source": [
    "We will try to run a machine learning model using KNN to find out if it could provide a better outcome from simple Logistic Regression. We use the data splitted for train and test data from above."
   ]
  },
  {
   "cell_type": "code",
   "execution_count": 19,
   "id": "c69cb390",
   "metadata": {},
   "outputs": [
    {
     "data": {
      "image/png": "[encoded data removed]",
      "text/plain": [
       "<Figure size 432x288 with 1 Axes>"
      ]
     },
     "metadata": {},
     "output_type": "display_data"
    }
   ],
   "source": [
    "# import K-Nearest Neighbor Classifier from sklearn\n",
    "from sklearn.neighbors import KNeighborsClassifier\n",
    "\n",
    "# try run k=1 up to 50 and record testing accuracy\n",
    "k_range = range(1,51)\n",
    "scores = {}\n",
    "scores_list = []\n",
    "\n",
    "for i in k_range:\n",
    "    knn = KNeighborsClassifier(n_neighbors = i)\n",
    "    knn.fit(X_train, y_train)\n",
    "    knn_pred = knn.predict(X_test)\n",
    "    scores[i] = accuracy_score(y_test, knn_pred)\n",
    "    scores_list.append(accuracy_score(y_test, knn_pred))\n",
    "    \n",
    "# Plot the accuracy score for given i\n",
    "plt.plot(range(1, 51), scores_list, marker='o', label='Accuracy Score')\n",
    "plt.xlabel('K', fontsize=14)\n",
    "plt.ylabel('Score', fontsize =14)\n",
    "plt.legend(loc='best')\n",
    "plt.title('Accuracy Score for Given K', fontsize=14)\n",
    "plt.grid(True)\n",
    "plt.show()"
   ]
  },
  {
   "cell_type": "markdown",
   "id": "76e33df3",
   "metadata": {},
   "source": [
    "As seen in the line plot, it was believed that K=41 may provide the best accuracy score among other 'K' options. However, we will try to esimate the accuracy if the test data set had different scenarios, using K-fold Cross Validation Score."
   ]
  },
  {
   "cell_type": "code",
   "execution_count": 20,
   "id": "8a03e173",
   "metadata": {},
   "outputs": [
    {
     "name": "stdout",
     "output_type": "stream",
     "text": [
      "Accuracy for each round: \n",
      " [0.59455 0.5974  0.6036  0.5947  0.5855 ]\n",
      "Average accuracy: 0.5952 +- 0.0058\n"
     ]
    }
   ],
   "source": [
    "from sklearn.model_selection import cross_val_score\n",
    "X = movielens.drop(['userId', 'movieId', 'feedback'], axis=1)\n",
    "y = movielens['feedback']\n",
    "\n",
    "# Create a KNN classifier model and use k-fold cross validation for testing accuracy estimation\n",
    "knn2 = KNeighborsClassifier(n_neighbors = 41)\n",
    "scores = cross_val_score(knn2, X, y, cv=5)\n",
    "print('Accuracy for each round: \\n', scores)\n",
    "print('Average accuracy: %.4f +- %.4f' % (scores.mean(), scores.std()))"
   ]
  },
  {
   "cell_type": "markdown",
   "id": "f0678b9c",
   "metadata": {},
   "source": [
    "According to 5-fold Cross Validation Score, the accuracy of K=41 was around 59% to 60%. This score was already better than the simple logistic regression accuracy score above. Hence, using K-Nearest Neighbour proven to increase the machine learning quality. However, we will try to find out which 'k' is the best using Algorithm Parameter tuning in order to fine tune KNN machine learning algorithm. "
   ]
  },
  {
   "cell_type": "code",
   "execution_count": 21,
   "id": "49b586a7",
   "metadata": {},
   "outputs": [
    {
     "name": "stdout",
     "output_type": "stream",
     "text": [
      "Best K value:  21\n",
      "The accuracy:  0.5965\n"
     ]
    }
   ],
   "source": [
    "from sklearn.model_selection import GridSearchCV\n",
    "\n",
    "# Define search space for parameters\n",
    "parameter_grid = {'n_neighbors': range(1, 51)}\n",
    "\n",
    "# Create the machine learning model\n",
    "knn3 = KNeighborsClassifier()\n",
    "AP_tuning = GridSearchCV(knn3, parameter_grid, scoring='accuracy')\n",
    "AP_tuning.fit(X, y)\n",
    "\n",
    "# Identify the best parameter(s)\n",
    "print('Best K value: ', AP_tuning.best_params_['n_neighbors'])\n",
    "print('The accuracy: ', AP_tuning.best_score_)"
   ]
  },
  {
   "cell_type": "markdown",
   "id": "d228783c",
   "metadata": {},
   "source": [
    "According to Algorithm Parameter Tuning, the best K value to be used was 21 instead. This will be used for our final model using KNN machine learning. "
   ]
  },
  {
   "cell_type": "code",
   "execution_count": 22,
   "id": "9228d91e",
   "metadata": {},
   "outputs": [
    {
     "name": "stdout",
     "output_type": "stream",
     "text": [
      "Testing accuracy is:  0.60215\n"
     ]
    }
   ],
   "source": [
    "# Create and training a KNN classifier model with the best K decided by Algorithm Parameter tuning\n",
    "knn = KNeighborsClassifier(n_neighbors = 21)\n",
    "knn.fit(X_train, y_train)\n",
    "\n",
    "# Use the model above to predict testing data\n",
    "knn_pred = knn.predict(X_test)\n",
    "accuracy = accuracy_score(knn_pred, y_test)\n",
    "print('Testing accuracy is: ', accuracy)"
   ]
  },
  {
   "cell_type": "code",
   "execution_count": 23,
   "id": "82ef3388",
   "metadata": {},
   "outputs": [
    {
     "name": "stdout",
     "output_type": "stream",
     "text": [
      "Confusion Matrix on test set using KNN\n",
      "[[4121 4723]\n",
      " [3234 7922]]\n"
     ]
    },
    {
     "data": {
      "text/plain": [
       "<sklearn.metrics._plot.confusion_matrix.ConfusionMatrixDisplay at 0x2562c022040>"
      ]
     },
     "execution_count": 23,
     "metadata": {},
     "output_type": "execute_result"
    },
    {
     "data": {
      "image/png": "[encoded data removed]",
      "text/plain": [
       "<Figure size 432x288 with 2 Axes>"
      ]
     },
     "metadata": {},
     "output_type": "display_data"
    }
   ],
   "source": [
    "# visualize the KNN Machine Learning Output using Confusion Matrix\n",
    "print('Confusion Matrix on test set using KNN')\n",
    "print(confusion_matrix(y_test, knn_pred))\n",
    "\n",
    "sns.set(style='white')\n",
    "plot_confusion_matrix(knn, X_test, y_test)"
   ]
  },
  {
   "cell_type": "markdown",
   "id": "2784a75e",
   "metadata": {},
   "source": [
    "Overall, by using KNN as the machine learning, we were able to increase the model's accuracy compared with simple Logistic Regression machine learning. This was due to KNN's nature which predict outcomes using neighbouring data that is within the range of the denoted 'K'. Suppose the neighbouring data have certain similar characteristics with one test data, it is able to predict that test data will return the same outcome with the neighbouring data. This was quite opposite with Logistic Regression, as the model was really dependant on the quality of independant variables. Poor data quality of independent variables lead to poor regression model. \n",
    "\n",
    "The improvement also visualized in the Confusion Matrix when using KNN. In the Logistic Regression model, we saw that the model tend to predict '1' as the outcome of the test data, which was quite unbalanced distribution for the outcome. However, the KNN model had a better distribution for the prediction outcome. In KNN model, it predicted 7355 '0' outcomes and 12645 '1' outcomes for feedbacks, compared with only up to 461 predicted '0' outcomes for feedbacks using logistic regression model. It also reflected the distribution of the 'feedback' data before it was splitted. "
   ]
  },
  {
   "cell_type": "code",
   "execution_count": null,
   "id": "7a7ec71e",
   "metadata": {},
   "outputs": [],
   "source": []
  }
 ],
 "metadata": {
  "kernelspec": {
   "display_name": "Python 3 (ipykernel)",
   "language": "python",
   "name": "python3"
  },
  "language_info": {
   "codemirror_mode": {
    "name": "ipython",
    "version": 3
   },
   "file_extension": ".py",
   "mimetype": "text/x-python",
   "name": "python",
   "nbconvert_exporter": "python",
   "pygments_lexer": "ipython3",
   "version": "3.9.7"
  }
 },
 "nbformat": 4,
 "nbformat_minor": 5
}
